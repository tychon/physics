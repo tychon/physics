{
 "cells": [
  {
   "cell_type": "markdown",
   "metadata": {},
   "source": [
    "# physics -- Quick Start\n",
    "\n",
    "physics is a package with helper functions for working with quantities\n",
    "and formatting uncertain values.  This Quick-start tutorial seems to have become a rather long read ... sorry :-/\n",
    "\n",
    "You can download the [Notebook](quickstart.ipynb) too.\n",
    "\n",
    "## Requirements\n",
    "\n",
    "python modules:\n",
    "\n",
    "* numpy\n",
    "* scipy\n",
    "* [quantities](https://pythonhosted.org/quantities/user/tutorial.html)\n",
    "\n",
    "other (optional):\n",
    "\n",
    "* pdflatex\n",
    "* pdfcrop (for Debian/Ubuntu in texlive-extra-utils)\n",
    "* ImageMagick, wand python module\n",
    "\n",
    "With pdflatex is used to create tables.  With pdfcrop, ImageMagick and `wand` those tables are displayed inline in Jupyter.\n",
    "\n",
    "## Install\n",
    "\n",
    "0. get source from https://github.com/tychon/physics\n",
    "\n",
    "       git clone https://github.com/tychon/physics.git\n",
    "\n",
    "0. go to project root and install with\n",
    "\n",
    "       $ python3 setup.py develop --user\n",
    "\n",
    "   With `'develop'` the files will not be copied to your local package directory and the interpreter will load modules from the project directory.\n",
    "\n",
    "To uninstall run\n",
    "\n",
    "    $ pip3 uninstall physics\n",
    "\n",
    "## Intro\n",
    "\n",
    "The physics module has two modules named `fit` and `fmt`.  The `fit` module contains an abstraction of scipy fit functions, the `fmt` module formats values with uncertainty and unit for `print()` or as tex tables and as PDF.\n",
    "\n",
    "## import\n",
    "\n",
    "Standard imports are `numpy`, `quantities` and following physics modules:"
   ]
  },
  {
   "cell_type": "code",
   "execution_count": 1,
   "metadata": {
    "collapsed": false
   },
   "outputs": [],
   "source": [
    "import numpy as np\n",
    "import quantities as pq\n",
    "\n",
    "from physics.fit import *\n",
    "from physics.fmt import *\n",
    "\n",
    "import matplotlib.pyplot as plt\n",
    "%matplotlib inline"
   ]
  },
  {
   "cell_type": "markdown",
   "metadata": {},
   "source": [
    "Using the star is generally not recommended.  The physics package tries to save you some work, so importing all the functions is just for convenience.\n",
    "\n",
    "## Formatting quantities\n",
    "\n",
    "The `fmt` module exports the following functions with `__all__`\n",
    "\n",
    "* `fmtuncert(value, uncert, decimals, power, ...)`\n",
    "* `fmtquant`: similar to `fmtuncert` but with quantities\n",
    "* `fmtquant_vec`: vectorized version of fmtquant\n",
    "* `fmttable`: format data as tex\n",
    "* `printtable`: format data as tex and create PDF\n",
    "\n",
    "### `fmtuncert`\n",
    "\n",
    "The `fmtuncert` function tries to display your value in the most sensible way.  It does not support quantities, see `fmtquant`.\n",
    "\n",
    "The number of visible digits defaults to four significant digits when no uncertainty is given:"
   ]
  },
  {
   "cell_type": "code",
   "execution_count": 2,
   "metadata": {
    "collapsed": false
   },
   "outputs": [
    {
     "name": "stdout",
     "output_type": "stream",
     "text": [
      "3.142\n",
      "271.8\n"
     ]
    }
   ],
   "source": [
    "print(fmtuncert(np.pi))\n",
    "print(fmtuncert(np.exp(1) * 100))"
   ]
  },
  {
   "cell_type": "markdown",
   "metadata": {},
   "source": [
    "Scales to a power of ten if the value is larger than 10000 or smaller than 0.01:"
   ]
  },
  {
   "cell_type": "code",
   "execution_count": 3,
   "metadata": {
    "collapsed": false
   },
   "outputs": [
    {
     "name": "stdout",
     "output_type": "stream",
     "text": [
      "2.998 10**8\n",
      "1.264 10**-3\n",
      "0.0\n"
     ]
    }
   ],
   "source": [
    "print(fmtuncert(2998e5)) # speed of light in m/s\n",
    "print(fmtuncert(0.001264)) # liters of blood in 16g mouse\n",
    "print(fmtuncert(0)) # liters of blood in computer mouse"
   ]
  },
  {
   "cell_type": "markdown",
   "metadata": {},
   "source": [
    "When an uncertainty is given, the value is rounded to two significant digits of the uncertainty.  When a power of ten is appended, the value is surrounded by parentheses:"
   ]
  },
  {
   "cell_type": "code",
   "execution_count": 4,
   "metadata": {
    "collapsed": false
   },
   "outputs": [
    {
     "name": "stdout",
     "output_type": "stream",
     "text": [
      "0.8626 +- 0.0042\n",
      "1350 +- 23\n",
      "(1.277 +- 0.022) 10**16\n"
     ]
    }
   ],
   "source": [
    "print(fmtuncert(0.862551243, 0.00424990)) # weight of an M&M in grams\n",
    "print(fmtuncert(1350, 23)) # distance to the Orion Nebula an ly\n",
    "print(fmtuncert(1277e13, 22e13)) # distance to Orion Nebula in km"
   ]
  },
  {
   "cell_type": "code",
   "execution_count": 5,
   "metadata": {
    "collapsed": false
   },
   "outputs": [
    {
     "name": "stdout",
     "output_type": "stream",
     "text": [
      "(2.998 +- 0.000) 10**8\n",
      "0.3000 +- nan\n",
      "\n",
      "-inf +- 2.0\n"
     ]
    }
   ],
   "source": [
    "# corner case: uncert == 0 => four significant digits\n",
    "print(fmtuncert(2998e5, 0)) # speed of light again\n",
    "# special values\n",
    "print(fmtuncert(0.3, np.nan))\n",
    "print(fmtuncert(0.3, np.nan, nanempty=True)) # nothing\n",
    "print(fmtuncert(-np.inf, 2))"
   ]
  },
  {
   "cell_type": "markdown",
   "metadata": {},
   "source": [
    "Using the third argument (named `decimals`), you can overwrite the number of decimal places to show.  The fourth argument lets you control the power:"
   ]
  },
  {
   "cell_type": "code",
   "execution_count": 6,
   "metadata": {
    "collapsed": false
   },
   "outputs": [
    {
     "name": "stdout",
     "output_type": "stream",
     "text": [
      "0.862551 +- 0.004250\n",
      "0.86 +- 0.00\n",
      "(862.6 +- 4.2) 10**-3\n",
      "(862551 +- 4250) 10**-6\n"
     ]
    }
   ],
   "source": [
    "print(fmtuncert(0.862551243, 0.00424990, 6))\n",
    "print(fmtuncert(0.862551243, 0.00424990, 2))\n",
    "print(fmtuncert(0.862551243, 0.00424990, 1, -3))\n",
    "print(fmtuncert(0.862551243, 0.00424990, power=-6))"
   ]
  },
  {
   "cell_type": "markdown",
   "metadata": {},
   "source": [
    "With the `significance` argument you can round your number and uncertainty to a power of ten.  This is useful for large numbers if you don't want to display an order, but hide misleading accuracy:"
   ]
  },
  {
   "cell_type": "code",
   "execution_count": 7,
   "metadata": {
    "collapsed": false
   },
   "outputs": [
    {
     "name": "stdout",
     "output_type": "stream",
     "text": [
      "56284 +- 1921\n",
      "56300 +- 1900\n"
     ]
    }
   ],
   "source": [
    "print(fmtuncert(56284.3, 1921, power=0))\n",
    "print(fmtuncert(56284.3, 1920, power=0, significance=2))"
   ]
  },
  {
   "cell_type": "markdown",
   "metadata": {},
   "source": [
    "With `pm` you can control the delimiter between the value and the uncertainty and with `ten` the delimiter between the uncertainty or value and the order.  With `tex=True` curly braces are shown for the order."
   ]
  },
  {
   "cell_type": "code",
   "execution_count": 8,
   "metadata": {
    "collapsed": false
   },
   "outputs": [
    {
     "name": "stdout",
     "output_type": "stream",
     "text": [
      "1350 \\pm 23\n",
      "(1.277 \\pm 0.022) \\cdot 10^{16}\n"
     ]
    }
   ],
   "source": [
    "print(fmtuncert(1350, 23, pm=r' \\pm ', ten=r' \\cdot 10^'))\n",
    "print(fmtuncert(1277e13, 22e13, pm=r' \\pm ', ten=r' \\cdot 10^', tex=True))"
   ]
  },
  {
   "cell_type": "markdown",
   "metadata": {},
   "source": [
    "### fmtquant\n",
    "\n",
    "`fmtquant` is a wrapper for `fmtuncert` and handles quantities.  The units are shown trailing the order of magnitude.  The uncertainty is rescaled to units of the value to avoid confusion:"
   ]
  },
  {
   "cell_type": "code",
   "execution_count": 9,
   "metadata": {
    "collapsed": false
   },
   "outputs": [
    {
     "name": "stdout",
     "output_type": "stream",
     "text": [
      "2.998 10**8 m/s\n",
      "(0.8626 +- 0.0042) g\n",
      "(0.8626 +- 0.0042) g\n",
      "2.998 10**8\n"
     ]
    }
   ],
   "source": [
    "print(fmtquant(pq.c.simplified))\n",
    "print(fmtquant(0.862551243 * pq.g, 0.00424990 * pq.g))\n",
    "print(fmtquant(0.862551243 * pq.g, 4.24990 * pq.mg))\n",
    "print(fmtquant(pq.c.simplified, units=False)) # hide units"
   ]
  },
  {
   "cell_type": "markdown",
   "metadata": {},
   "source": [
    "The `UncertainQuantity` class of `quantities` is not and probably will not be supported any time soon, since it does not (any by principle can not) support error propagation for non-trivial calculations.\n",
    "\n",
    "### comparequant\n",
    "\n",
    "If you want to compare quantities in respect to their uncertainties (for example fit results to literature values) use\n",
    "\n",
    "    comparequant(v1, v2,\n",
    "                 err1=None, err2=None,\n",
    "                 names=None)\n",
    "\n",
    "where `v1` and `v2` are lists of quantities where every i-th value has the same units.  `err1` and `err2` are one-sigma errors an can be omitted (default to zero).  The last optional argument `names` is a list of names (as strings) for each row.\n",
    "\n",
    "It prints in four columns the names, the two values and the deviation calculated by\n",
    "\n",
    "$\\delta = \\frac{\\lvert v_2 - v_1\\rvert}{\\sqrt{\\Delta v_1^2 + \\Delta v_2^2}}$\n",
    "\n",
    "The return value of `comparequant()` is a list of these deviations."
   ]
  },
  {
   "cell_type": "code",
   "execution_count": 10,
   "metadata": {
    "collapsed": false
   },
   "outputs": [
    {
     "name": "stdout",
     "output_type": "stream",
     "text": [
      "f0 |        (592.7 +- 5.0) Hz |        (600.0 +- 0.0) Hz |  1.460 σ\n",
      " d | (0.02966 +- 0.00035) 1/s | (0.03000 +- 0.00000) 1/s | 0.9714 σ\n",
      "\n",
      "[array(1.4599999999999909) * dimensionless, array(0.9714285714285715) * dimensionless]\n"
     ]
    }
   ],
   "source": [
    "v1 = [592.7 * pq.Hz, 0.02966 / pq.s]\n",
    "v1err = [5.0 * pq.Hz, 0.00035 / pq.s]\n",
    "\n",
    "v2 = [600.0 * pq.Hz, 0.03 / pq.s]\n",
    "\n",
    "dev = comparequant(v1, v2,\n",
    "                   v1err, None,\n",
    "                   names=['f0', 'd'])\n",
    "\n",
    "print()\n",
    "print(dev)"
   ]
  },
  {
   "cell_type": "markdown",
   "metadata": {},
   "source": [
    "## Tables\n",
    "\n",
    "`physics` will try to display the table inline.  For that it needs `pdfcrop` and the `wand` module.  If it can't find one of them, displaying tables is deactivated.\n",
    "\n",
    "I will only show you how to use `printtable()`, since all other functions are just helper functions to this one.  First we generate some fictional data, for example the measurement of a damped rotation:"
   ]
  },
  {
   "cell_type": "code",
   "execution_count": 11,
   "metadata": {
    "collapsed": false
   },
   "outputs": [
    {
     "data": {
      "image/png": "[encoded data removed]",
      "text/plain": [
       "<matplotlib.figure.Figure at 0x7f3704c49be0>"
      ]
     },
     "metadata": {},
     "output_type": "display_data"
    }
   ],
   "source": [
    "t = np.arange(0, 90, 5) * pq.s\n",
    "d = 0.03 / pq.s # dampening constant\n",
    "f = 600 * np.exp(-d * t) * pq.Hz\n",
    "\n",
    "# gaussian distribution of measured values\n",
    "# sadly np.random is not yet supported by quantities\n",
    "ferr = np.random.uniform(10, 20, len(f)) * pq.Hz\n",
    "f = np.random.normal(f, ferr.magnitude) * pq.Hz\n",
    "\n",
    "plt.figure(1)\n",
    "plt.errorbar(t, f, fmt=' ', yerr=ferr)\n",
    "plt.xlabel(r\"Time / s\")\n",
    "plt.ylabel(r\"Frequency / Hz\")\n",
    "plt.xlim([-1, 91])\n",
    "plt.show()"
   ]
  },
  {
   "cell_type": "markdown",
   "metadata": {},
   "source": [
    "Now we can generate a table displaying this data.  I have to admit, that the `printtable` function is not very easy to use, since it has these long tuples.\n",
    "\n",
    "First the table is formatted to LaTeX, which is written to a file and then compiled using `pdflatex` in a subprocess.  If `pdflatex` returns with 0 as return code, the table is cropped from DIN-A4 and displayed in Jupyter.\n",
    "\n",
    "The first argument of the function is all the data to be displayed.  It is a list of tuples.  Every tuple is one column and can have a length from two to six values.\n",
    "\n",
    "If the tuple has a length of 2 or 3\n",
    "\n",
    "    (heading, values, fun=str)\n",
    "\n",
    "`heading` is LaTeX to be displayed in the table header.  `values` is a list of nearly anything.  If `fun` is not given, `str` is used to convert the values in `values` to LaTeX.  `fun` can be any function taking one value and returning a string.\n",
    "\n",
    "The more interesting tuples are of length 4 to 6:\n",
    "\n",
    "    (heading, values, uncert, decimals, power=0, significance=None)\n",
    "\n",
    "`heading` is the column header again. `values` should be a numpy ndarray with data and `uncert` can be a single value or a ndarray of the same length as `values`.  `uncert` can be `None` if no uncertainty is known (or the quantities have none).  `decimals` specifies the number of decimal places to show (obvious :-P).  `power` and `significance` have the same meaning as in `fmtuncert()`.\n",
    "\n",
    "\n",
    "Here we go:"
   ]
  },
  {
   "cell_type": "code",
   "execution_count": 12,
   "metadata": {
    "collapsed": false
   },
   "outputs": [
    {
     "name": "stdout",
     "output_type": "stream",
     "text": [
      "INFO: rescaling uncertainty for $f / kHz$\n",
      "Compiling to table1.pdf\n"
     ]
    },
    {
     "data": {
      "image/png": "[encoded data removed]",
      "text/plain": [
       "<wand.image.Image: 886e36a 'PNG' (313x309)>"
      ]
     },
     "metadata": {},
     "output_type": "display_data"
    },
    {
     "data": {
      "text/plain": [
       "'table1'"
      ]
     },
     "execution_count": 12,
     "metadata": {},
     "output_type": "execute_result"
    }
   ],
   "source": [
    "printtable([(\"$t / s$\", t, None, 0),\n",
    "            (\"$f / Hz$\", f, ferr, 0),\n",
    "            (\"$f / Hz$\", f, ferr, 0, -2, 0),\n",
    "            (\"$f / kHz$\", f.rescale('kHz'), ferr, 3)],\n",
    "          r\"Messwerte f\\\"ur Rotation\")"
   ]
  },
  {
   "cell_type": "markdown",
   "metadata": {},
   "source": [
    "The `printtable()` function has some more arguments:\n",
    "\n",
    "* `caption`: The caption for the table\n",
    "* `tableno`: The table number (used for default file name too)\n",
    "* `name`: A basename to use when creating files\n",
    "* `columnformat`: A string of 'lcr' (left, center, right) giving the alignment of text in the columns.  You have to include the alignment for the leftmost index column!\n",
    "* `index`: The index defaults to a enumeration of rows.  If supplied, it has to be a list of LaTeX strings and be of the same length as the longest data column.  The index can be suppressed with `index=None`\n",
    "\n",
    "Another example:"
   ]
  },
  {
   "cell_type": "code",
   "execution_count": 13,
   "metadata": {
    "collapsed": false
   },
   "outputs": [
    {
     "name": "stdout",
     "output_type": "stream",
     "text": [
      "Compiling to table2.pdf\n"
     ]
    },
    {
     "data": {
      "image/png": "[encoded data removed]",
      "text/plain": [
       "<wand.image.Image: dba7ce8 'PNG' (223x174)>"
      ]
     },
     "metadata": {},
     "output_type": "display_data"
    },
    {
     "data": {
      "text/plain": [
       "'table2'"
      ]
     },
     "execution_count": 13,
     "metadata": {},
     "output_type": "execute_result"
    }
   ],
   "source": [
    "number = [5, 14, 32, 33, 51, 52, 84, 85]\n",
    "elsym = ['B', 'Si', 'Ge', 'As',\n",
    "         'Sb', 'Te', 'Po', 'At']\n",
    "elnames = [\"Boron\", \"Silicon\", \"Germanium\", \"Arsenic\",\n",
    "           \"Antimony\", \"Tellurium\", \"Polonium\", \"Astatine\"]\n",
    "\n",
    "printtable([(\"Symbol\", elsym, lambda sym: r'\\texttt{'+sym+'}'),\n",
    "            (\"Atomic number\", number, None, 0)],\n",
    "           r\"Metalloids\",\n",
    "           tableno=2,\n",
    "           columnformat='ccr',\n",
    "           index=elnames)"
   ]
  },
  {
   "cell_type": "markdown",
   "metadata": {},
   "source": [
    "If you want to keep the cropped table, pass `keepcropped=True` to `printtable()`.\n",
    "\n",
    "## Fitting data\n",
    "\n",
    "Again I will only show you `fitquant()` since it is the most useful function.\n",
    "\n",
    "`fitquant()` is a wrapper handling quantities for `autofit()`.  In almost all cases you should be able to simply cram you data into `fitquant()` (or `autofit()` if you don't have quantities associated with it) and get some result.\n",
    "\n",
    "Depending on the type of uncertainties you supply a fit algorithm is chosen and run.  Then some additional info like standard error of best fit parameters are calculated / estimated.\n",
    "\n",
    "The used algorithms are:\n",
    "\n",
    "* no xerr: `scipy.optimize.curve_fit` which in turn uses\n",
    "  * unbounded: `scipy.optimize.leastsq` (Levenberg-Marquardt algorithm)\n",
    "  * bounded parameters: `scipy.optimize.least_squares` (Trust Region Reflective algorithm)\n",
    "    * *this requires at least version 0.17.0 of scipy*\n",
    "* with xerr but no bounds: `scipy.odr.odr` (Levenberg-Marquardt algorithm)\n",
    "* bounds and xerr not supported\n",
    "\n",
    "The function arguments are:\n",
    "\n",
    "    fitquant(fun, xdata, ydata, p0,\n",
    "             xerr=None, yerr=None,\n",
    "             bounds=None,\n",
    "             pprint=True,\n",
    "             full_output=False)\n",
    "\n",
    "The first argument of the function is the model function.  It takes the independent variable (x) as first argument, then all the parameters and outputs one value (y).  It has to work on numpy ndarrays.\n",
    "\n",
    "The second and third argument is the data to fit against.\n",
    "\n",
    "`p0` is a list of initial guesses for the parmeters.  The units of the parameters are determined from these numbers too.\n",
    "\n",
    "All following arguments are optional.\n",
    "\n",
    "`xerr` and `yerr` are uncertainties (one sigma errors) for `xdata` and `ydata` (a scalar or ndarray of same length).  They must not contain values smaller or equal to 0.\n",
    "\n",
    "With `bounds` you can restrict the parameters to ranges.  It is a list of `(min, max)` tuples for parameters.  Use `+/- np.inf` for `min` or `max` when there is no bound in that direction.  If parameters lie close to a bound, the estimated covariance matrix becomes singular (not good).\n",
    "\n",
    "The fit result is printed out for you (unless you specify `pprint=False`).  The shown parameter names are taken from the model function argument names.\n",
    "\n",
    "The function returns a 2-tuple: (1) a list of estimated parameters and (2) a list of standard errors for the parameters.  With `full_output=True` a 3-tuple is returned, where the third element is a dict with additional fit information (like the covariance matrix).\n",
    "\n",
    "Here's an example:"
   ]
  },
  {
   "cell_type": "code",
   "execution_count": 14,
   "metadata": {
    "collapsed": false
   },
   "outputs": [
    {
     "name": "stdout",
     "output_type": "stream",
     "text": [
      "Fitting [Hz] depending on [s]\n",
      "    N=90, params=2, dof=88\n",
      "    Method: curve_fit\n",
      "    successful: True\n",
      "    trf finished\n",
      "    Residual variance: 1.0075777085\n",
      "    Probability of fit: 46.0%\n",
      "    Parameters:\n",
      "      t0: (598.3 +- 3.7) Hz\n",
      "      d: (0.02991 +- 0.00026) 1/s\n",
      "\n",
      "f0 |        (598.3 +- 3.7) Hz |        (600.0 +- 0.0) Hz | 0.4503 σ\n",
      " d | (0.02991 +- 0.00026) 1/s | (0.03000 +- 0.00000) 1/s | 0.3527 σ\n",
      "\n",
      "Results as lists:\n",
      "param: [array(598.326278465989) * Hz, array(0.029907655542157765) * 1/s]\n",
      "uncert: [array(3.716799767274664) * Hz, array(0.0002618143204319386) * 1/s]\n"
     ]
    },
    {
     "data": {
      "image/png": "[encoded data removed]",
      "text/plain": [
       "<matplotlib.figure.Figure at 0x7f3704b83e48>"
      ]
     },
     "metadata": {},
     "output_type": "display_data"
    }
   ],
   "source": [
    "# some fictional data\n",
    "t = np.arange(0, 90, 1) * pq.s\n",
    "d = 0.03 / pq.s # dampening constant\n",
    "f = 600 * np.exp(-d * t)\n",
    "# gaussian distribution of measurements\n",
    "ferr = np.random.uniform(5, 20, len(t)) * pq.Hz\n",
    "f = np.random.normal(f, ferr.magnitude) * pq.Hz\n",
    "\n",
    "# the model function with parameters t0 and d\n",
    "def fun(t, t0, d):\n",
    "    return t0 * np.exp(-d * t)\n",
    "\n",
    "# the fit with initial parameters t0=520Hz and d=0.1/s\n",
    "# with bounds (they aren't necessary, but that's how they work)\n",
    "ps, perr = fitquant(fun, t, f, [520*pq.Hz, 0.1/pq.s],\n",
    "                    yerr=ferr,\n",
    "                    bounds=[(0, np.inf)*pq.Hz,\n",
    "                            (0, np.inf)/pq.s])\n",
    "\n",
    "print()\n",
    "c = comparequant(ps, [600*pq.Hz, d], perr, names=['f0', 'd'])\n",
    "\n",
    "print(\"\\nResults as lists:\")\n",
    "print(\"param:\", ps)\n",
    "print(\"uncert:\", perr)\n",
    "\n",
    "# and a nice plot\n",
    "plt.figure(1)\n",
    "xs = np.linspace(0, 90, 300) * pq.s\n",
    "plt.plot(xs, fun(xs, ps[0], ps[1]), '-', label=\"Fit\")\n",
    "plt.errorbar(t, f, fmt=' ', yerr=ferr,\n",
    "             color='black', label=\"Data\")\n",
    "plt.xlabel(r\"Time / s\")\n",
    "plt.ylabel(r\"Frequency / Hz\")\n",
    "plt.xlim([-1, 91])\n",
    "plt.legend(numpoints=1)\n",
    "plt.show()"
   ]
  },
  {
   "cell_type": "markdown",
   "metadata": {},
   "source": [
    "And another one with uncertainties in both directions:"
   ]
  },
  {
   "cell_type": "code",
   "execution_count": 15,
   "metadata": {
    "collapsed": false
   },
   "outputs": [
    {
     "name": "stdout",
     "output_type": "stream",
     "text": [
      "Fitting [J] depending on [cm]\n",
      "    N=50, params=1, dof=49\n",
      "    Method: odr\n",
      "    successful: True\n",
      "    ['Sum of squares convergence']\n",
      "    Residual variance: 0.9731856094604181\n",
      "    Probability of fit: 52.6%\n",
      "    Parameters:\n",
      "      k: (1.967 +- 0.067) N/cm\n",
      "\n",
      "k | (1.967 +- 0.067) N/cm | (2.000 +- 0.000) N/cm | 0.4912 σ\n"
     ]
    },
    {
     "data": {
      "image/png": "[encoded data removed]",
      "text/plain": [
       "<matplotlib.figure.Figure at 0x7f3704b73320>"
      ]
     },
     "metadata": {},
     "output_type": "display_data"
    }
   ],
   "source": [
    "def V(x, k):\n",
    "    return (0.5 * k * x**2).rescale('J')\n",
    "\n",
    "xs = np.arange(-10, 10, 0.4) * pq.cm\n",
    "k = 2 * pq.N / pq.cm # spring constant\n",
    "Vs = V(xs, k)\n",
    "\n",
    "# normal distribution in x and V\n",
    "# sadly np.random is not yet supported by quantities\n",
    "xerr = np.random.uniform(0.5, 2, len(xs))*0.2 * pq.cm\n",
    "Verr = 0.1 * pq.J\n",
    "xs = np.random.normal(xs, xerr.magnitude) * pq.cm\n",
    "Vs = np.random.normal(Vs, Verr.magnitude) * pq.J\n",
    "\n",
    "# the fit with initial parameters\n",
    "ps, perr = fitquant(V, xs, Vs, [1*pq.N/pq.cm],\n",
    "                    xerr=xerr, yerr=Verr)\n",
    "\n",
    "print()\n",
    "c = comparequant(ps, [k], perr, names=['k'])\n",
    "\n",
    "# and a nice plot\n",
    "plt.figure(1)\n",
    "cont = np.linspace(-10.5, 10.5, 300) * pq.cm\n",
    "plt.plot(cont, V(cont, k), '-', label=\"Real\")\n",
    "plt.plot(cont, V(cont, ps[0]), '-', label=\"Fit\")\n",
    "plt.errorbar(xs, Vs, fmt=' ',\n",
    "             xerr=xerr, yerr=0.1*pq.J,\n",
    "             color='black', label=\"Data\")\n",
    "plt.xlabel(r\"x / cm\")\n",
    "plt.ylabel(r\"Energy / J\")\n",
    "plt.xlim([-13, 13])\n",
    "plt.ylim([-0.4, 1.4])\n",
    "plt.legend(loc='lower left', numpoints=1)\n",
    "plt.show()"
   ]
  },
  {
   "cell_type": "markdown",
   "metadata": {},
   "source": [
    "### Interpreting the Result\n",
    "\n",
    "To begin with, everything we do / estimate assumes an underlying normal distribution of your measurement around the real value!\n",
    "\n",
    "The fit works by minimizing the sum of the squares of the residuals:\n",
    "\n",
    "$f_{min} = \\sum^N_{i=1} w_i\\, (y_i - f(x_i, \\beta))^2 $\n",
    "\n",
    "with some weight $w_i$ depending on the uncertainties. $\\beta$ are the fit parameters.\n",
    "\n",
    "If `successful` isn't `True`, you should change something.  If the algorithm doesn't think it found a solution, it very probably really didn't.\n",
    "\n",
    "The residual variance is the same as\n",
    "\n",
    "$\\chi^2_{red} = \\frac{\\chi^2}{N-n}$\n",
    "\n",
    "where $N-n$ are the degrees of freedom and\n",
    "\n",
    "$\\chi^2 = \\sum^N_{i=1} w_i\\, \\left(y_i - f\\left(x_i, \\hat\\beta\\right)\\right)^2 $\n",
    "\n",
    "with $\\hat\\beta$ as estimated best-fit parameters.\n",
    "\n",
    "**GIST:** The $\\chi^2_{red}$ should be very close to $1.0$.  If it is larger, your data scatters more than your uncertainties suggest, ie. the $\\Delta\\hat\\beta$ would have been larger if you gave the real one-sigma $\\Delta y_i$!  Similarly if $\\chi^2_{red}$ is smaller one, your data points scatter less than your uncertainties suggest, ie the $\\Delta\\hat\\beta$ would have been smaller if you gave the real $\\Delta y_i$!\n",
    "\n",
    "Using the $\\chi^2$-distribution, we can estimate a probability of the fit, which is imho not very useful in most cases.\n",
    "\n",
    "The standard errors of parameters are the square roots of the diagonal elements of the covariance matrix $C$.  In some cases the covariance matrix can become singular (eg some parameter has no significant effect on the model function).  Then some elements are infinit and the resulting estimated standard errors are too.\n",
    "\n",
    "Remember: Those are only one-sigma errors too. The probability of the true value lying in $\\hat\\beta \\pm \\Delta\\hat\\beta$ is only $68.3\\%$.\n",
    "\n",
    "### If fitting fails\n",
    "\n",
    "These are some errors I encountered during testing:\n",
    "\n",
    "Your initial parameters should really be the best guess you have and never have the wrong sign.  (Except sometimes, where a very good guess can throw the algorithm waaaay off, but we don't use those here ... I think)\n",
    "\n",
    "If your parameters vary in some orders of magnitude, the gradient (of your model function in parameter space) becomes too steep and some fitting algorithms may fail.  In that case scale your model function (eg. use kHz instead of Hz)\n",
    "\n",
    "If your function can't handle negative values (eg. sqrt of parameters) you should use `bounds` to hinder the algorithm from going there.\n",
    "\n",
    "If a warning is shown (eg. RuntimeError: divide by zero, RuntimeError: invalid value in sqrt, ...) you should find out why!\n",
    "\n",
    "As mentioned before, infinite standard errors come from a singular covariance matrix.  The algorithm probably failed to approximate derivatives of your model function.  In most cases you did something wrong -- maybe some parameter has no significant effect on the model function.  In some cases you can rescale your function or rewrite it.\n",
    "\n",
    "If you want to spend some time on this, you can try to pass a function calculating the exact Jacobian directly, so the algorithm doesn't have to approximate it.  This is currently not supported by `physics` and you have to use the scipy functions directly.\n",
    "\n",
    "Another good option is to rewrite the problem.  Eg. make an exponential model linear using logarithms or something like that."
   ]
  }
 ],
 "metadata": {
  "kernelspec": {
   "display_name": "Python 3",
   "language": "python",
   "name": "python3"
  },
  "language_info": {
   "codemirror_mode": {
    "name": "ipython",
    "version": 3
   },
   "file_extension": ".py",
   "mimetype": "text/x-python",
   "name": "python",
   "nbconvert_exporter": "python",
   "pygments_lexer": "ipython3",
   "version": "3.5.1+"
  }
 },
 "nbformat": 4,
 "nbformat_minor": 0
}
